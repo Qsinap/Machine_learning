{
  "nbformat": 4,
  "nbformat_minor": 0,
  "metadata": {
    "colab": {
      "name": "5.1)_Feed_forward_neural_network.ipynb",
      "provenance": [],
      "collapsed_sections": []
    },
    "kernelspec": {
      "name": "python3",
      "display_name": "Python 3"
    },
    "language_info": {
      "name": "python"
    },
    "accelerator": "GPU"
  },
  "cells": [
    {
      "cell_type": "code",
      "metadata": {
        "id": "CMEFZ6o-4BOY"
      },
      "source": [
        "from scipy import stats\n",
        "import numpy as np\n",
        "import math\n",
        "import matplotlib.pyplot as plt\n",
        "import seaborn as sns\n",
        "import pandas as pd\n",
        "from random import shuffle\n",
        "import random\n",
        "from mpl_toolkits.mplot3d import Axes3D\n",
        "import time"
      ],
      "execution_count": 15,
      "outputs": []
    },
    {
      "cell_type": "markdown",
      "metadata": {
        "id": "0mr5Cj3QxxwN"
      },
      "source": [
        "# Funciones de activacion"
      ]
    },
    {
      "cell_type": "code",
      "metadata": {
        "id": "nHlGCeZj4jjn"
      },
      "source": [
        "def derivada_relu(x):\n",
        "  value=np.copy(x)\n",
        "  value[value<=0] = 0\n",
        "  value[value>0] = 1\n",
        "  return value"
      ],
      "execution_count": 16,
      "outputs": []
    },
    {
      "cell_type": "code",
      "metadata": {
        "id": "etVsq2Df4nRW"
      },
      "source": [
        "relu = (\n",
        "  lambda x: x * (x > 0),\n",
        "  lambda x:derivada_relu(x)\n",
        "  )"
      ],
      "execution_count": 17,
      "outputs": []
    },
    {
      "cell_type": "code",
      "metadata": {
        "id": "3xHMTamw4XIf"
      },
      "source": [
        "sigmoid = (\n",
        "  lambda x:1 / (1 + np.exp(-x)),\n",
        "  lambda x:np.exp(-x) / ((1 + np.exp(-x))**2)  #Derivada\n",
        "  )"
      ],
      "execution_count": 18,
      "outputs": []
    },
    {
      "cell_type": "code",
      "metadata": {
        "id": "SiMl0acr7buD"
      },
      "source": [
        "tangeteHiperbolica = (\n",
        "  lambda x:(2/(1+np.exp(-2*x)))-1,\n",
        "  lambda x:4*np.exp(-2*x)/((1+np.exp(-2*x))**2) #Derivada\n",
        "  )"
      ],
      "execution_count": 19,
      "outputs": []
    },
    {
      "cell_type": "code",
      "metadata": {
        "id": "gkewEnvBa5tl"
      },
      "source": [
        "#solo aplicable para multiples salidas\n",
        "softmax = (\n",
        "    lambda x:np.exp(x)*np.transpose(np.ones((np.shape(x)[1], np.shape(x)[0]))*(1/np.sum(np.exp(x), axis=1)))\n",
        "    )"
      ],
      "execution_count": 20,
      "outputs": []
    },
    {
      "cell_type": "markdown",
      "metadata": {
        "id": "B4IBPqiZBkJ8"
      },
      "source": [
        "### Gráficos de las funciones de activacion"
      ]
    },
    {
      "cell_type": "code",
      "metadata": {
        "id": "HiALIVg4Bqb5"
      },
      "source": [
        "def plot_funciones(rango, funcion, derivada):\n",
        "  sns.set_style('darkgrid')\n",
        "  plt.figure(figsize=(15,5))\n",
        "  plt.subplot(1,2,1)\n",
        "  plt.title('FunciOn de activaciOn')\n",
        "  plt.xlabel('Entrada')\n",
        "  plt.ylabel('Salida')\n",
        "  plt.plot(rango, funcion)\n",
        "  plt.subplot(1,2,2)\n",
        "  plt.title('Derivada de la funciOn de activaciOn')\n",
        "  plt.plot(rango, derivada)"
      ],
      "execution_count": 21,
      "outputs": []
    },
    {
      "cell_type": "code",
      "metadata": {
        "id": "bt-0TsQIC0W5"
      },
      "source": [
        "rango = np.linspace(-10,10).reshape([50,1])"
      ],
      "execution_count": 22,
      "outputs": []
    },
    {
      "cell_type": "code",
      "metadata": {
        "colab": {
          "base_uri": "https://localhost:8080/",
          "height": 350
        },
        "id": "3hbIzNwCx4su",
        "outputId": "96ebf39c-86a3-4971-b5f2-0f77f2f3209d"
      },
      "source": [
        "datos_relu = relu[0](rango)\n",
        "datos_relu_derivada = relu[1](rango)\n",
        "\n",
        "plot_funciones(rango, datos_relu, datos_relu_derivada)"
      ],
      "execution_count": 23,
      "outputs": [
        {
          "output_type": "display_data",
          "data": {
            "image/png": "[encoded data removed]",
            "text/plain": [
              "<Figure size 1080x360 with 2 Axes>"
            ]
          },
          "metadata": {}
        }
      ]
    },
    {
      "cell_type": "code",
      "metadata": {
        "colab": {
          "base_uri": "https://localhost:8080/",
          "height": 350
        },
        "id": "MTmeeokBDC2M",
        "outputId": "6d8622a5-5d72-4941-b1f9-98769fda043d"
      },
      "source": [
        "datos_sigmoide = sigmoid[0](rango)\n",
        "datos_sigmoide_derivada = sigmoid[1](rango)\n",
        "\n",
        "plot_funciones(rango, datos_sigmoide, datos_sigmoide_derivada)"
      ],
      "execution_count": 24,
      "outputs": [
        {
          "output_type": "display_data",
          "data": {
            "image/png": "[encoded data removed]",
            "text/plain": [
              "<Figure size 1080x360 with 2 Axes>"
            ]
          },
          "metadata": {}
        }
      ]
    },
    {
      "cell_type": "code",
      "metadata": {
        "colab": {
          "base_uri": "https://localhost:8080/",
          "height": 350
        },
        "id": "H9tY9sKJxsW2",
        "outputId": "2674aa00-9935-4d11-a6f5-b5979e6e3ef5"
      },
      "source": [
        "datos_tanh = tangeteHiperbolica[0](rango)\n",
        "datos_tanh_derivada = tangeteHiperbolica[1](rango)\n",
        "\n",
        "plot_funciones(rango, datos_tanh, datos_tanh_derivada)"
      ],
      "execution_count": 25,
      "outputs": [
        {
          "output_type": "display_data",
          "data": {
            "image/png": "[encoded data removed]",
            "text/plain": [
              "<Figure size 1080x360 with 2 Axes>"
            ]
          },
          "metadata": {}
        }
      ]
    },
    {
      "cell_type": "markdown",
      "metadata": {
        "id": "aNCc8UFLIchV"
      },
      "source": [
        "### Datos de entrenamiento"
      ]
    },
    {
      "cell_type": "code",
      "metadata": {
        "id": "PzjCqlUxJSjr"
      },
      "source": [
        "def graficar_datos(data, label):\n",
        "  sns.set_style('darkgrid')\n",
        "  label=label[:,0]\n",
        "  plt.figure(figsize=(6,5))\n",
        "  plt.plot(X[label==0,0], X[label==0,1],'.r')\n",
        "  plt.plot(X[label==1,0], X[label==1,1],'.b')\n",
        "  plt.title('Conjunto de datos')\n",
        "  plt.xlabel('$x_1$')\n",
        "  plt.ylabel('$x_2$')"
      ],
      "execution_count": 26,
      "outputs": []
    },
    {
      "cell_type": "code",
      "metadata": {
        "id": "YuZdlqg0tCla"
      },
      "source": [
        "def datos_divididos(no_muestras, No_variables, Ruido=0.5):\n",
        "  Xs = np.round(np.random.randn(no_muestras, No_variables),3)\n",
        "  #Ruido aleatorio\n",
        "  Nx=(np.random.rand(*Xs.shape)-0.5)*Ruido                                      \n",
        "  labels = np.array(((Xs[:,0]+Nx[:,0])>(Xs[:,1]+Nx[:,1])).astype('int')).reshape(no_muestras,1)\n",
        "  return Xs, labels"
      ],
      "execution_count": 27,
      "outputs": []
    },
    {
      "cell_type": "code",
      "metadata": {
        "id": "Umhyf7NE6hao"
      },
      "source": [
        "def datos_circulo(no_muestras, No_variables, Ruido=0.5):\n",
        "  Xs =  np.round(np.random.randn(no_muestras, No_variables),3)\n",
        "  #Ruido aleatorio\n",
        "  Nx=(np.random.rand(*Xs.shape)-0.5)*Ruido\n",
        "  labels = np.array((np.sqrt((Xs[:,0]+Nx[:,0])**2+(Xs[:,1]+Nx[:,1])**2)>1.3).astype('int')).reshape(no_muestras,1)\n",
        "  return Xs, labels"
      ],
      "execution_count": 28,
      "outputs": []
    },
    {
      "cell_type": "code",
      "metadata": {
        "colab": {
          "base_uri": "https://localhost:8080/",
          "height": 350
        },
        "id": "29pn9rudIey9",
        "outputId": "c30ff924-6c9a-4fda-abae-fb9a5341c199"
      },
      "source": [
        "muestras=600              #Muestras y observaiones\n",
        "no_prueb=int(muestras/4)  #numero de observaciones de prueba\n",
        "No_var = 2                #Numero de variables de entrada o caracterísicas\n",
        "percen = 0.7              #Porcentaje de ruido\n",
        "\n",
        "X, Y=datos_circulo(muestras, No_var, percen)\n",
        "X_test, Y_test=datos_circulo(muestras, No_var, percen)\n",
        "\n",
        "graficar_datos(X,Y)"
      ],
      "execution_count": 29,
      "outputs": [
        {
          "output_type": "display_data",
          "data": {
            "image/png": "[encoded data removed]",
            "text/plain": [
              "<Figure size 432x360 with 1 Axes>"
            ]
          },
          "metadata": {}
        }
      ]
    },
    {
      "cell_type": "markdown",
      "metadata": {
        "id": "at5EWZ2PEVlk"
      },
      "source": [
        "# Red Neuronal Artificial"
      ]
    },
    {
      "cell_type": "markdown",
      "metadata": {
        "id": "R4b6kEAKLkWd"
      },
      "source": [
        "función para construir las capas con pesos iniciados aleatoriamente"
      ]
    },
    {
      "cell_type": "code",
      "metadata": {
        "id": "Ut6p1MKlxnnG"
      },
      "source": [
        "class capa():\n",
        "  def __init__(self, n_neuronas_capa_anterior, n_neuronas, funcion_act):\n",
        "    self.funcion_act = funcion_act\n",
        "    self.b  = np.round(stats.truncnorm.rvs(-1, 1, loc=0, scale=1, size= n_neuronas).reshape(1,n_neuronas),3)\n",
        "    self.W  = np.round(stats.truncnorm.rvs(-1, 1, loc=0, scale=1, size= n_neuronas * n_neuronas_capa_anterior).reshape(n_neuronas_capa_anterior,n_neuronas),3)"
      ],
      "execution_count": 30,
      "outputs": []
    },
    {
      "cell_type": "markdown",
      "metadata": {
        "id": "CpqdzUb9KqYl"
      },
      "source": [
        "Definiendo el número de capas y el número de neuronas por capa. La primera capa debe tener el mismo tamaña que número de características de los datos, i.e., dos entradas para las variables $x_1$ y $x_2$. Además, la primera capa no tiene función de activación."
      ]
    },
    {
      "cell_type": "code",
      "metadata": {
        "id": "4GgWt_DOymCg"
      },
      "source": [
        "#capas y neuronas\n",
        "neuronas = [No_var,4,1] \n",
        "\n",
        "#Funciones de activacion de las capas ocultas \n",
        "funciones_activacion = [relu,relu, tangeteHiperbolica]"
      ],
      "execution_count": 31,
      "outputs": []
    },
    {
      "cell_type": "code",
      "metadata": {
        "id": "NYNtQCkKyo8m"
      },
      "source": [
        "#Construccion de la red\n",
        "red_neuronal = []\n",
        "\n",
        "for paso in range(len(neuronas)-1):\n",
        "  x = capa(neuronas[paso],neuronas[paso+1],funciones_activacion[paso])\n",
        "  red_neuronal.append(x)"
      ],
      "execution_count": 32,
      "outputs": []
    },
    {
      "cell_type": "markdown",
      "metadata": {
        "id": "PkfTScjVMBwT"
      },
      "source": [
        "### Primera capa\n",
        "Multiplicacion y suma de los pesos"
      ]
    },
    {
      "cell_type": "code",
      "metadata": {
        "colab": {
          "base_uri": "https://localhost:8080/"
        },
        "id": "nxklCv6FyukY",
        "outputId": "f17210d3-02d7-43e7-a668-cdef2a2b3cac"
      },
      "source": [
        "z = X @ red_neuronal[0].W\n",
        "\n",
        "print('Primeras tres muestras :\\n', z[:3,:], '\\n')\n",
        "print('Entrada a la capa :', X.shape)\n",
        "print('Salida de la capa :', z.shape)"
      ],
      "execution_count": 33,
      "outputs": [
        {
          "output_type": "stream",
          "name": "stdout",
          "text": [
            "Primeras tres muestras :\n",
            " [[-0.146056  0.291696 -0.652936  0.3979  ]\n",
            " [ 0.635292 -0.637686  0.217305 -0.020772]\n",
            " [-0.466134  0.06357   1.520869 -1.080277]] \n",
            "\n",
            "Entrada a la capa : (600, 2)\n",
            "Salida de la capa : (600, 4)\n"
          ]
        }
      ]
    },
    {
      "cell_type": "markdown",
      "metadata": {
        "id": "-XtBbRV658S6"
      },
      "source": [
        "pesos"
      ]
    },
    {
      "cell_type": "code",
      "metadata": {
        "colab": {
          "base_uri": "https://localhost:8080/"
        },
        "id": "ezlFR47iwuGC",
        "outputId": "33897bc5-82af-4280-e868-d80a218b1d9f"
      },
      "source": [
        "red_neuronal[1].W"
      ],
      "execution_count": 34,
      "outputs": [
        {
          "output_type": "execute_result",
          "data": {
            "text/plain": [
              "array([[ 0.597],\n",
              "       [-0.778],\n",
              "       [-0.55 ],\n",
              "       [-0.07 ]])"
            ]
          },
          "metadata": {},
          "execution_count": 34
        }
      ]
    },
    {
      "cell_type": "markdown",
      "metadata": {
        "id": "mj5WPjkFMxav"
      },
      "source": [
        "Suma del sesgo (bias)"
      ]
    },
    {
      "cell_type": "code",
      "metadata": {
        "colab": {
          "base_uri": "https://localhost:8080/"
        },
        "id": "Msjh3RcFy3sY",
        "outputId": "86769b85-b56e-438a-a5ca-9d6a3ee8022a"
      },
      "source": [
        "z = z + red_neuronal[0].b\n",
        "print('Primeras tres muestras:\\n', z[:3,:], '\\n')"
      ],
      "execution_count": 35,
      "outputs": [
        {
          "output_type": "stream",
          "name": "stdout",
          "text": [
            "Primeras tres muestras:\n",
            " [[ 0.553944 -0.144304 -0.720936  1.1249  ]\n",
            " [ 1.335292 -1.073686  0.149305  0.706228]\n",
            " [ 0.233866 -0.37243   1.452869 -0.353277]] \n",
            "\n"
          ]
        }
      ]
    },
    {
      "cell_type": "markdown",
      "metadata": {
        "id": "sRUcIytBM2sz"
      },
      "source": [
        "Operación con la función de activacion "
      ]
    },
    {
      "cell_type": "code",
      "metadata": {
        "colab": {
          "base_uri": "https://localhost:8080/"
        },
        "id": "THWL4hz6y_jn",
        "outputId": "7f2730c7-ae2a-4668-a0b7-e5a79b63a749"
      },
      "source": [
        "a = red_neuronal[0].funcion_act[0](z)\n",
        "print('Primeras tres muestras:\\n', a[:3,:], '\\n')"
      ],
      "execution_count": 36,
      "outputs": [
        {
          "output_type": "stream",
          "name": "stdout",
          "text": [
            "Primeras tres muestras:\n",
            " [[ 0.553944 -0.       -0.        1.1249  ]\n",
            " [ 1.335292 -0.        0.149305  0.706228]\n",
            " [ 0.233866 -0.        1.452869 -0.      ]] \n",
            "\n"
          ]
        }
      ]
    },
    {
      "cell_type": "markdown",
      "metadata": {
        "id": "mqYQVaX_OFOe"
      },
      "source": [
        "### Salida de la última capa"
      ]
    },
    {
      "cell_type": "code",
      "metadata": {
        "colab": {
          "base_uri": "https://localhost:8080/"
        },
        "id": "cpz2IaY_zR5Q",
        "outputId": "fe8a89d3-09b7-4845-a98e-17eaaf0dfbfa"
      },
      "source": [
        "output = [X]\n",
        "\n",
        "#Iteraciones de todas las capas (La entrada de una capa es la salida de la anterior)\n",
        "for num_capa in range(len(red_neuronal)):\n",
        "  z = output[-1] @ red_neuronal[num_capa].W + red_neuronal[num_capa].b\n",
        "  a = red_neuronal[num_capa].funcion_act[0](z)\n",
        "  output.append(a)\n",
        "\n",
        "print('Salida de la red de las tres primeras muestras :\\n', output[-1][:3])\n",
        "print('Forma de la salida: ', np.shape(output[-1]))"
      ],
      "execution_count": 37,
      "outputs": [
        {
          "output_type": "stream",
          "name": "stdout",
          "text": [
            "Salida de la red de las tres primeras muestras :\n",
            " [[ 0.75096157]\n",
            " [ 1.16461561]\n",
            " [-0.        ]]\n",
            "Forma de la salida:  (600, 1)\n"
          ]
        }
      ]
    },
    {
      "cell_type": "markdown",
      "metadata": {
        "id": "DSV13e8Fz1pX"
      },
      "source": [
        "### Error de la red (Pérdida) y Regularización"
      ]
    },
    {
      "cell_type": "code",
      "metadata": {
        "id": "vHbAu48dxdoP"
      },
      "source": [
        "def pesos(net):\n",
        "  Ws=[]\n",
        "  for i in net:  \n",
        "    Ws=np.append(Ws,(i.W).reshape(((i.W).size,1)))\n",
        "  return Ws"
      ],
      "execution_count": 38,
      "outputs": []
    },
    {
      "cell_type": "code",
      "metadata": {
        "id": "cSqLDiq6zhzq"
      },
      "source": [
        "def mse(Ypredich, Yreal, net, Regularizacion='None', lambda_0=0.3):\n",
        "  reg=0\n",
        "  if Regularizacion=='L1':\n",
        "    wi=pesos(net)\n",
        "    reg=np.sum(np.abs(wi))/len(wi)\n",
        "\n",
        "  if Regularizacion=='L2':\n",
        "    wi=pesos(net)\n",
        "    reg=np.sum(wi**2)/(2*len(wi))\n",
        "\n",
        "  # Cálculo del error (Pérdida)\n",
        "  x = ((np.array(Ypredich)-np.array(Yreal))**2)+lambda_0*reg\n",
        "  x = np.mean(x)\n",
        "\n",
        "  # Cálculo de la derivada\n",
        "  Dx = np.array(Ypredich) - np.array(Yreal)\n",
        "  return (x, Dx)"
      ],
      "execution_count": 39,
      "outputs": []
    },
    {
      "cell_type": "markdown",
      "metadata": {
        "id": "-Im21s9_6ECB"
      },
      "source": [
        "Pérdida sin regularización"
      ]
    },
    {
      "cell_type": "code",
      "metadata": {
        "colab": {
          "base_uri": "https://localhost:8080/"
        },
        "id": "6v6agwvU3v8C",
        "outputId": "7c8c4740-80f1-4f75-d2b8-83f99c5da489"
      },
      "source": [
        "mse(output[-1], Y, red_neuronal)[0]"
      ],
      "execution_count": 40,
      "outputs": [
        {
          "output_type": "execute_result",
          "data": {
            "text/plain": [
              "0.5916311572136687"
            ]
          },
          "metadata": {},
          "execution_count": 40
        }
      ]
    },
    {
      "cell_type": "markdown",
      "metadata": {
        "id": "BRpqtF_X6HO3"
      },
      "source": [
        "Pérdida con regularización L1"
      ]
    },
    {
      "cell_type": "code",
      "metadata": {
        "colab": {
          "base_uri": "https://localhost:8080/"
        },
        "id": "3KcEdDvTZHQN",
        "outputId": "3e046442-6af1-47a3-e7d1-42af97a5ef2a"
      },
      "source": [
        "mse(output[-1], Y, red_neuronal, 'L1')[0]"
      ],
      "execution_count": 41,
      "outputs": [
        {
          "output_type": "execute_result",
          "data": {
            "text/plain": [
              "0.7721311572136687"
            ]
          },
          "metadata": {},
          "execution_count": 41
        }
      ]
    },
    {
      "cell_type": "markdown",
      "metadata": {
        "id": "T-Lx2pvkzuvq"
      },
      "source": [
        "# Backpropagation"
      ]
    },
    {
      "cell_type": "markdown",
      "metadata": {
        "id": "ZAagRj270IRo"
      },
      "source": [
        "Pesos y sesgos de la última capa oculta"
      ]
    },
    {
      "cell_type": "code",
      "metadata": {
        "colab": {
          "base_uri": "https://localhost:8080/"
        },
        "id": "4CsasP8Tz9K5",
        "outputId": "8a95db8f-7e19-45a6-de0d-37edc3856851"
      },
      "source": [
        "print('Sesgo de la Ultima capa oculta:\\n ', red_neuronal[-1].b)\n",
        "print('Pesos de la Ultima capa oculta :\\n ', red_neuronal[-1].W)"
      ],
      "execution_count": 42,
      "outputs": [
        {
          "output_type": "stream",
          "name": "stdout",
          "text": [
            "Sesgo de la Ultima capa oculta:\n",
            "  [[0.499]]\n",
            "Pesos de la Ultima capa oculta :\n",
            "  [[ 0.597]\n",
            " [-0.778]\n",
            " [-0.55 ]\n",
            " [-0.07 ]]\n"
          ]
        }
      ]
    },
    {
      "cell_type": "markdown",
      "metadata": {
        "id": "8dKsZlPeg1a1"
      },
      "source": [
        "Propagación hacia atras de la ultima capa (la derivada está en definida como el segundo posición de las funciones de activación)"
      ]
    },
    {
      "cell_type": "code",
      "metadata": {
        "colab": {
          "base_uri": "https://localhost:8080/"
        },
        "id": "IsV16iim0Eju",
        "outputId": "ba01cd4d-0222-494a-d4e3-74483e205458"
      },
      "source": [
        "a = output[-1]\n",
        "x = mse(a,Y, red_neuronal)[1] * red_neuronal[-2].funcion_act[1](a) #Derivada\n",
        "print(x[:3,:])"
      ],
      "execution_count": 43,
      "outputs": [
        {
          "output_type": "stream",
          "name": "stdout",
          "text": [
            "[[ 0.75096157]\n",
            " [ 1.16461561]\n",
            " [-0.        ]]\n"
          ]
        }
      ]
    },
    {
      "cell_type": "markdown",
      "metadata": {
        "id": "DSpYdj9R0WuS"
      },
      "source": [
        "# Gradient Descent\n",
        "Optimizar respecto al error de la última capa"
      ]
    },
    {
      "cell_type": "code",
      "metadata": {
        "colab": {
          "base_uri": "https://localhost:8080/"
        },
        "id": "S93rpq9F0VcJ",
        "outputId": "c4ba0933-bdfe-4f24-af22-1bdc93cd2b17"
      },
      "source": [
        "red_neuronal[-1].b = red_neuronal[-1].b - x.mean() * 0.01           #0.01 Tasa de aprendizaje\n",
        "red_neuronal[-1].W = red_neuronal[-1].W - (output[-1].T @ x) * 0.01 #0.01 Tasa de aprendizaje\n",
        "\n",
        "red_neuronal[-1].b\n",
        "red_neuronal[-1].W"
      ],
      "execution_count": 44,
      "outputs": [
        {
          "output_type": "execute_result",
          "data": {
            "text/plain": [
              "array([[-1.88059101],\n",
              "       [-3.25559101],\n",
              "       [-3.02759101],\n",
              "       [-2.54759101]])"
            ]
          },
          "metadata": {},
          "execution_count": 44
        }
      ]
    },
    {
      "cell_type": "markdown",
      "metadata": {
        "id": "g0_EO2XFh772"
      },
      "source": [
        "# Propagación hacia atras en toda la red "
      ]
    },
    {
      "cell_type": "code",
      "metadata": {
        "colab": {
          "base_uri": "https://localhost:8080/"
        },
        "id": "XACMcfSH0hYK",
        "outputId": "e14eb9ad-aa3b-43e1-810b-d743f570b074"
      },
      "source": [
        "# Tasa de aprendizaje learning rate\n",
        "lr = 0.05\n",
        "\n",
        "# Indice inverso para ir de atras hacia adelante en la red\n",
        "back = list(range(len(output)-1))\n",
        "back.reverse()\n",
        "\n",
        "# Vector delta para almacenar los errores en cada capa\n",
        "delta = []\n",
        "\n",
        "for capa in back:\n",
        "  # Backpropagation #\n",
        "\n",
        "  # Resultados de la ultima capa antes de usar backpropagation para poder usarlas en gradient descent\n",
        "  a = output[capa+1][1]\n",
        "\n",
        "  # Backpropopation en la ultima capa \n",
        "  if capa == back[0]:\n",
        "    x = mse(a,Y, red_neuronal)[1] * red_neuronal[capa].funcion_act[1](a)\n",
        "    delta.append(x)\n",
        "\n",
        "  # Backpropagation en el resto de capas \n",
        "  else:\n",
        "    x = delta[-1] @ W_temp * red_neuronal[capa].funcion_act[1](a)\n",
        "    delta.append(x)\n",
        "\n",
        "  # Valores de W para poder usarlos en la iteracion siguiente\n",
        "  W_temp = red_neuronal[capa].W.transpose()\n",
        "\n",
        "  # Gradient Descent #\n",
        "\n",
        "  # Ajustamos los valores de los parametros de la capa\n",
        "  red_neuronal[capa].b = red_neuronal[capa].b - delta[-1].mean() * lr\n",
        "  red_neuronal[capa].W = red_neuronal[capa].W - (output[capa].T @ delta[-1]) * lr\n",
        "\n",
        "\n",
        "print('MSE: ' + str(mse(output[-1],Y, red_neuronal)[0]) )\n",
        "print('Estimacion: ' + str(output[-1][:5]) )"
      ],
      "execution_count": 45,
      "outputs": [
        {
          "output_type": "stream",
          "name": "stdout",
          "text": [
            "MSE: 0.5916311572136687\n",
            "Estimacion: [[ 0.75096157]\n",
            " [ 1.16461561]\n",
            " [-0.        ]\n",
            " [ 0.54598305]\n",
            " [-0.        ]]\n"
          ]
        }
      ]
    },
    {
      "cell_type": "markdown",
      "metadata": {
        "id": "haNUaIKT0_Wo"
      },
      "source": [
        "# Experimento completo"
      ]
    },
    {
      "cell_type": "code",
      "metadata": {
        "id": "_MZ4l6gw1DWW"
      },
      "source": [
        "def entrenamiento(X,Y, red_neuronal, lr = 0.01, reg='None'):\n",
        "\n",
        "  # Output guardara el resultado de cada capa\n",
        "  # En la capa 1, el resultado es el valor de entrada\n",
        "  output = [X]\n",
        "\n",
        "  for num_capa in range(len(red_neuronal)):\n",
        "    z = output[-1] @ red_neuronal[num_capa].W + red_neuronal[num_capa].b\n",
        "\n",
        "    a = red_neuronal[num_capa].funcion_act[0](z)\n",
        "\n",
        "    # Agregar el resultado de la capa a output\n",
        "    output.append(a)\n",
        "\n",
        "  # Backpropagation\n",
        "\n",
        "  back = list(range(len(output)-1))\n",
        "  back.reverse()\n",
        "\n",
        "  # Vector del error de la capa\n",
        "  delta = []\n",
        "\n",
        "  for capa in back:\n",
        "    # Backprop #delta\n",
        "\n",
        "    a = output[capa+1]\n",
        "\n",
        "    if capa == back[0]:\n",
        "      x = mse(a,Y, red_neuronal, reg)[1] * red_neuronal[capa].funcion_act[1](a)\n",
        "      delta.append(x)\n",
        "\n",
        "    else:\n",
        "      x = delta[-1] @ W_temp * red_neuronal[capa].funcion_act[1](a)\n",
        "      delta.append(x)\n",
        "\n",
        "    W_temp = red_neuronal[capa].W.transpose()\n",
        "\n",
        "    # Gradient Descent #\n",
        "    red_neuronal[capa].b = red_neuronal[capa].b - np.mean(delta[-1], axis = 0, keepdims = True) * lr\n",
        "    red_neuronal[capa].W = red_neuronal[capa].W - output[capa].transpose() @ delta[-1] * lr\n",
        "\n",
        "  return output[-1]"
      ],
      "execution_count": 46,
      "outputs": []
    },
    {
      "cell_type": "code",
      "metadata": {
        "id": "GX0cG3Sv1Hvm"
      },
      "source": [
        "def get_network(no_neuronas, funciones_act):\n",
        "  class capa():\n",
        "    def __init__(self, n_neuronas_capa_anterior, n_neuronas, funcion_act):\n",
        "      self.funcion_act = funcion_act\n",
        "      self.b  = np.round(stats.truncnorm.rvs(-1, 1, loc=0, scale=1, size= n_neuronas).reshape(1,n_neuronas),3)\n",
        "      self.W  = np.round(stats.truncnorm.rvs(-1, 1, loc=0, scale=1, size= n_neuronas * n_neuronas_capa_anterior).reshape(n_neuronas_capa_anterior,n_neuronas),3)\n",
        "\n",
        "  neuronas = no_neuronas\n",
        "  funciones_activacion = funciones_act\n",
        "  net = []\n",
        "\n",
        "  for paso in list(range(len(neuronas)-1)):\n",
        "    x = capa(neuronas[paso],neuronas[paso+1],funciones_activacion[paso])\n",
        "    net.append(x)\n",
        "\n",
        "  return net"
      ],
      "execution_count": 47,
      "outputs": []
    },
    {
      "cell_type": "code",
      "metadata": {
        "id": "qC7LuytVAjSD"
      },
      "source": [
        "def metrica_evaluacion(y_pred, y_test, metric):\n",
        "  y_hat=np.round(y_pred)\n",
        "  TP=np.sum((y_hat==1)*(y_test==1))\n",
        "  TN=np.sum((y_hat==0)*(y_test==0))\n",
        "  FP=np.sum((y_hat==1)*(y_test==0))\n",
        "  FN=np.sum((y_hat==0)*(y_test==1))\n",
        "\n",
        "  if metric=='Accuracy':\n",
        "    value=(TP+TN)/(TP+TN+FP+FN)\n",
        "  if metric=='Sensitivity':\n",
        "    value=(TP)/(TP+FN)\n",
        "  if metric=='Specificity':\n",
        "    value=(TN)/(TN+FP)\n",
        "  if metric=='Precision':\n",
        "    value=(TP)/(TP+FP)\n",
        "  if metric=='F1':\n",
        "    value=(2*TP)/(2*TP+FP+FN)\n",
        "  if metric=='FPR':\n",
        "    value=(FP)/(TN+FP)\n",
        "  if metric=='FNR':\n",
        "    value=(FN)/(TP+FN)\n",
        "\n",
        "  return value"
      ],
      "execution_count": 48,
      "outputs": []
    },
    {
      "cell_type": "code",
      "metadata": {
        "id": "251VvO2Y1KsG"
      },
      "source": [
        "def run_experiment(no_neuronas, funciones_act, reg='None', lambda_0=0.01, metrica='Accuracy', no_epoch=1000):\n",
        "  red_neuronal=get_network(no_neuronas, funciones_act)\n",
        "  error = []\n",
        "  predicciones = []\n",
        "\n",
        "  tic=time.time()\n",
        "  for epoch in range(0, no_epoch):\n",
        "    ronda = entrenamiento(X = X ,Y = Y ,red_neuronal = red_neuronal, lr = 0.001)\n",
        "    predicciones.append(ronda)\n",
        "    temp = mse(np.round(predicciones[-1]),Y, red_neuronal, reg, lambda_0)[0]\n",
        "    error.append(temp)\n",
        "    print('\\rEpoch :', epoch, end='')\n",
        "  toc=time.time()-tic\n",
        "  print('\\nEntrenamiento finalizado')\n",
        "\n",
        "  epoch = list(range(0,no_epoch))\n",
        "  plt.plot(epoch, error)\n",
        "\n",
        "  #Evaluación datos de test\n",
        "  predi = entrenamiento(X = X_test ,Y = Y_test, red_neuronal = red_neuronal, lr = 0.001)\n",
        "  valid = mse(np.round(predi),Y_test, red_neuronal)[0]\n",
        "  acc=metrica_evaluacion(predi, Y_test, metrica)\n",
        "\n",
        "  print('Perdida ultima epoca    : ', error[-1])\n",
        "  print('Perdida datos de prueba : ', valid)\n",
        "  print('Tiempo de entrenamiento : ', toc)\n",
        "  print('Metrica de evaluacion   :  '+metrica+'=', acc)"
      ],
      "execution_count": 49,
      "outputs": []
    },
    {
      "cell_type": "markdown",
      "metadata": {
        "id": "0kM_cD3Z0sA2"
      },
      "source": [
        "### Punto 1.2 Datos al interior de un circulo"
      ]
    },
    {
      "cell_type": "code",
      "metadata": {
        "id": "kQRuFjjEzCJk"
      },
      "source": [
        "muestras=600              #Muestras y observaiones\n",
        "no_prueb=int(muestras/4)  #numero de observaciones de prueba\n",
        "No_var = 2                #Numero de variables de entrada o caracterísicas\n",
        "percen = 0.7              #Porcentaje de ruido\n",
        "\n",
        "X, Y=datos_circulo(muestras, No_var, percen)\n",
        "X_test, Y_test=datos_circulo(muestras, No_var, percen)"
      ],
      "execution_count": 50,
      "outputs": []
    },
    {
      "cell_type": "code",
      "metadata": {
        "colab": {
          "base_uri": "https://localhost:8080/",
          "height": 350
        },
        "id": "IAs8r2tmY31D",
        "outputId": "1a006ffc-e5f2-422c-c25a-b98757ace563"
      },
      "source": [
        "graficar_datos(X,Y)"
      ],
      "execution_count": 51,
      "outputs": [
        {
          "output_type": "display_data",
          "data": {
            "image/png": "[encoded data removed]",
            "text/plain": [
              "<Figure size 432x360 with 1 Axes>"
            ]
          },
          "metadata": {}
        }
      ]
    },
    {
      "cell_type": "markdown",
      "metadata": {
        "id": "JJv4F5LzYFrY"
      },
      "source": [
        "### Diferentes perceptrones"
      ]
    },
    {
      "cell_type": "code",
      "metadata": {
        "colab": {
          "base_uri": "https://localhost:8080/",
          "height": 369
        },
        "id": "AL83AUxsZED7",
        "outputId": "5ecbb366-6036-41b1-bdc6-44d355296f3e"
      },
      "source": [
        "run_experiment([No_var,256,1], [sigmoid, sigmoid])"
      ],
      "execution_count": 52,
      "outputs": [
        {
          "output_type": "stream",
          "name": "stdout",
          "text": [
            "Epoch : 999\n",
            "Entrenamiento finalizado\n",
            "Perdida ultima epoca    :  0.11666666666666667\n",
            "Perdida datos de prueba :  0.13166666666666665\n",
            "Tiempo de entrenamiento :  19.639566659927368\n",
            "Metrica de evaluacion   :  Accuracy= 0.8683333333333333\n"
          ]
        },
        {
          "output_type": "display_data",
          "data": {
            "image/png": "[encoded data removed]",
            "text/plain": [
              "<Figure size 432x288 with 1 Axes>"
            ]
          },
          "metadata": {}
        }
      ]
    }
  ]
}