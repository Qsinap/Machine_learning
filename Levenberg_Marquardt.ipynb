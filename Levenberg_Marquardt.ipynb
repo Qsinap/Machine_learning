{
  "nbformat": 4,
  "nbformat_minor": 0,
  "metadata": {
    "colab": {
      "name": "Levenberg-Marquardt.ipynb",
      "provenance": [],
      "collapsed_sections": []
    },
    "kernelspec": {
      "name": "python3",
      "display_name": "Python 3"
    }
  },
  "cells": [
    {
      "cell_type": "code",
      "metadata": {
        "id": "R9mfdYq-Hq-n"
      },
      "source": [
        "import numpy as np\n",
        "import matplotlib.pyplot as plt\n",
        "import scipy.io as sio\n",
        "import seaborn as sns\n",
        "import pandas as pd\n",
        "import time\n",
        "from IPython.display import clear_output\n",
        "import os\n",
        "import random\n",
        "import time\n",
        "from matplotlib import rcParams\n",
        "rcParams['figure.figsize'] = 11.7,4\n",
        "sns.set_theme()"
      ],
      "execution_count": 9,
      "outputs": []
    },
    {
      "cell_type": "markdown",
      "metadata": {
        "id": "DlL8Ax8bY3u2"
      },
      "source": [
        "### Datos\n",
        "Simulación de datos No lineales con \n",
        "$\\mathbf{x}\\in \\mathbb{R}^{n}$ y $\\mathbf{y}\\in \\mathbb{R}^{n}$.\n",
        "\n",
        "$$\\mathbf{x}=\n",
        "\\begin{pmatrix}\n",
        "x_1\\\\ \n",
        "x_2\\\\ \n",
        "x_3\\\\ \n",
        "\\vdots \\\\ \n",
        "x_n\\\\ \n",
        "\\end{pmatrix} \\mathbf{y}=\n",
        "\\begin{pmatrix}\n",
        "y_1\\\\ \n",
        "y_2\\\\ \n",
        "y_3\\\\ \n",
        "\\vdots \\\\ \n",
        "y_n\\\\ \n",
        "\\end{pmatrix}$$\n",
        "\n",
        "Modelo matemático $y_i=e^{x_i^2+3x_i+2}$"
      ]
    },
    {
      "cell_type": "code",
      "metadata": {
        "id": "R8SZpqYuGhuq"
      },
      "source": [
        "#Simulación con ruido gausiano\n",
        "n = 200\n",
        "x = np.linspace (0,1, n)                                            # Genera datos que contienen ruido\n",
        "a1, b1, c1 = 1,3,2                                                  # Este es el parámetro real de la función y (x) que debe ajustarse\n",
        "y = [np.exp(a1*i**2+b1*i+c1)+random.gauss(0,4) for i in x]\n",
        "df=pd.DataFrame({'x': x, 'y': y})"
      ],
      "execution_count": 10,
      "outputs": []
    },
    {
      "cell_type": "markdown",
      "metadata": {
        "id": "RR5-KONhYCFH"
      },
      "source": [
        "### Gráfica de los datos observados"
      ]
    },
    {
      "cell_type": "code",
      "metadata": {
        "id": "b0Z5f75-NcT3",
        "colab": {
          "base_uri": "https://localhost:8080/",
          "height": 398
        },
        "outputId": "0ea9f10f-eaa0-4f68-c990-78fce5f6292f"
      },
      "source": [
        "sns.relplot(x='x', y='y', data=df)\n",
        "plt.title('Datos')\n",
        "plt.xlabel('predictores')\n",
        "plt.ylabel('salidas')"
      ],
      "execution_count": 11,
      "outputs": [
        {
          "output_type": "execute_result",
          "data": {
            "text/plain": [
              "Text(5.334999999999994, 0.5, 'salidas')"
            ]
          },
          "metadata": {},
          "execution_count": 11
        },
        {
          "output_type": "display_data",
          "data": {
            "image/png": "[encoded data removed]",
            "text/plain": [
              "<Figure size 360x360 with 1 Axes>"
            ]
          },
          "metadata": {}
        }
      ]
    },
    {
      "cell_type": "markdown",
      "metadata": {
        "id": "cgjWZFKKEPBy"
      },
      "source": [
        "### Levenberg-Marquardt"
      ]
    },
    {
      "cell_type": "code",
      "metadata": {
        "id": "duA1sD_FEHlq"
      },
      "source": [
        "y0 = np.matrix(y) # Convertir a forma matricial"
      ],
      "execution_count": 12,
      "outputs": []
    },
    {
      "cell_type": "code",
      "metadata": {
        "id": "hG4vOGgrIRy6"
      },
      "source": [
        "def Func(abc, iput): # La función que se va a ajustar, abc es una matriz que contiene tres parámetros [[a], [b], [c]]\n",
        "  a = abc[0,0]\n",
        "  b = abc[1,0]\n",
        "  c = abc[2,0]\n",
        "  return np.exp(a*iput**2+b*iput+c)"
      ],
      "execution_count": 13,
      "outputs": []
    },
    {
      "cell_type": "code",
      "metadata": {
        "id": "HQEzrqZ-ISjl"
      },
      "source": [
        "def Deriv(abc, iput, n): # Encuentra la derivada parcial de la función\n",
        "  x1 = abc.copy()\n",
        "  x2 = abc.copy()\n",
        "  delta=0.000001 #Influye en la tasa de aprendizaje\n",
        "  x1[n,0] -= delta \n",
        "  x2[n,0] += delta\n",
        "  p1 = Func(x1,iput)\n",
        "  p2 = Func(x2,iput)\n",
        "  d = (p2-p1)*1.0/(2*delta)\n",
        "  return d"
      ],
      "execution_count": 14,
      "outputs": []
    },
    {
      "cell_type": "code",
      "metadata": {
        "id": "A77m-zPYIUbA"
      },
      "source": [
        "J = np.matrix(np.zeros ((n, 3)))      #Jacobi matrix\n",
        "fx = np.matrix(np.zeros ((n, 1)))     # f (x) 100 * 1 error\n",
        "fx_tmp = np.matrix(np.zeros((n,1)))\n",
        "xk = np.matrix([[0.8], [2.7], [1.5]]) # inicialización de parámetro\n",
        "lase_mse = 0\n",
        "step = 0\n",
        "u,v= 1,2\n",
        "conve = 100"
      ],
      "execution_count": 15,
      "outputs": []
    },
    {
      "cell_type": "code",
      "metadata": {
        "colab": {
          "base_uri": "https://localhost:8080/",
          "height": 353
        },
        "id": "dO334Xy2I_wr",
        "outputId": "66d6d527-ffed-4aed-f6c6-49fbc2cb5ba3"
      },
      "source": [
        "step=0\n",
        "tic=time.time()\n",
        "while (conve):\n",
        "  mse,mse_tmp = 0,0\n",
        "  step += 1  \n",
        "  for i in range(n):\n",
        "    fx[i] = Func(xk, x[i]) - y0[0,i] # Tenga en cuenta que no se puede escribir como y-Func, de lo contrario divergerá\n",
        "    mse += fx[i,0]**2\n",
        "    for j in range(3): \n",
        "      J[i, j] = Deriv(xk, x[i], j)   # derivada numérica                                                    \n",
        "  mse /= n # restricción de rango\n",
        "\n",
        "  H = J.T*J + u*np.eye(3)   # 3*3\n",
        "  dx = -H.I*J.T*fx # Tenga en cuenta que hay un signo menos, que corresponde al signo de fx = Func-y\n",
        "  xk_tmp = xk.copy()\n",
        "  xk_tmp += dx\n",
        "\n",
        "  for j in range(n):\n",
        "    fx_tmp[i] =  Func(xk_tmp, x[i]) - y0[0,i]  \n",
        "    mse_tmp += fx_tmp[i,0]**2\n",
        "  mse_tmp /= n\n",
        "\n",
        "  q = (mse - mse_tmp)/((0.5*dx.T*(u*dx - J.T*fx))[0,0])\n",
        "\n",
        "  if q > 0:\n",
        "    s = 1.0/3.0\n",
        "    v = 2\n",
        "    mse = mse_tmp\n",
        "    xk = xk_tmp\n",
        "    temp = 1-pow(2*q-1,3)\n",
        "\n",
        "    if s > temp:\n",
        "      u = u*s\n",
        "    else:\n",
        "      u = u*temp\n",
        "  else:\n",
        "    u = u*v\n",
        "    v = 2*v\n",
        "    xk = xk_tmp\n",
        "\n",
        "  #print (\"step = %d,abs(mse-lase_mse) = %.8f\" %(step,abs(mse-lase_mse)))  \n",
        "  if abs(mse-lase_mse)<0.00000001:  #Sensibilidad\n",
        "    break\n",
        "\n",
        "  lase_mse = mse # registra la posición del mse anterior\n",
        "  conve -= 1\n",
        "\n",
        "toc=time.time()-tic\n",
        "print(xk, toc, step)\n",
        "\n",
        "z = [Func (xk, i) for i in x] # Dibujar con los parámetros ajustados\n",
        "\n",
        "plt.figure(figsize=(7,4))\n",
        "plt.scatter(x,np.array(y0)[0],s = 4, label=\"y reales\")\n",
        "\n",
        "plt.title('Datos')\n",
        "plt.xlabel('x')\n",
        "plt.ylabel('salidas (ys)')\n",
        "plt.plot(x,z,'r', label=\"y predicha\")\n",
        "plt.legend()\n",
        "plt.show()"
      ],
      "execution_count": 16,
      "outputs": [
        {
          "output_type": "stream",
          "name": "stdout",
          "text": [
            "[[0.89054925]\n",
            " [3.15957362]\n",
            " [1.94452211]] 0.13326811790466309 7\n"
          ]
        },
        {
          "output_type": "display_data",
          "data": {
            "image/png": "[encoded data removed]",
            "text/plain": [
              "<Figure size 504x288 with 1 Axes>"
            ]
          },
          "metadata": {}
        }
      ]
    }
  ]
}